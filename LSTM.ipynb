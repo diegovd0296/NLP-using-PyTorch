{
 "cells": [
  {
   "cell_type": "code",
   "execution_count": 1,
   "metadata": {
    "collapsed": true
   },
   "outputs": [],
   "source": [
    "import torch\n",
    "\n",
    "import torch.nn as nn\n",
    "import torch.nn.functional as F\n",
    "import torch.autograd as autograd\n",
    "import torch.optim as optim\n",
    "import numpy as np\n",
    "import random\n"
   ]
  },
  {
   "cell_type": "code",
   "execution_count": 2,
   "metadata": {
    "collapsed": true
   },
   "outputs": [],
   "source": [
    "if torch.cuda.is_available():\n",
    "    DTYPE = torch.cuda.FloatTensor\n",
    "else:\n",
    "    DTYPE = torch.FloatTensor\n",
    "    "
   ]
  },
  {
   "cell_type": "code",
   "execution_count": 3,
   "metadata": {
    "collapsed": true
   },
   "outputs": [],
   "source": [
    "data = open('texts/Lovecraft.txt','r').read()\n",
    "alphabet = set(data)\n",
    "\n",
    "ix_to_char = {k:v for k,v in enumerate(alphabet)}\n",
    "char_to_ix = {k:v for v,k in enumerate(alphabet)}"
   ]
  },
  {
   "cell_type": "code",
   "execution_count": 4,
   "metadata": {
    "collapsed": true
   },
   "outputs": [],
   "source": [
    "NUM_LAYERS = 3\n",
    "BATCH_SIZE = 1\n",
    "HIDDEN_DIM = 128\n",
    "SEQ_LEN = 65\n"
   ]
  },
  {
   "cell_type": "code",
   "execution_count": 5,
   "metadata": {
    "collapsed": true
   },
   "outputs": [],
   "source": [
    "def sequence_to_tensor(sequence):\n",
    "    tensor = torch.zeros(SEQ_LEN,len(alphabet)).type(DTYPE)\n",
    "    for i, c in enumerate(sequence):\n",
    "        tensor[i][char_to_ix[c]] = 1\n",
    "    return tensor\n"
   ]
  },
  {
   "cell_type": "code",
   "execution_count": 6,
   "metadata": {
    "collapsed": true
   },
   "outputs": [],
   "source": [
    "class LSTM(nn.Module):\n",
    "\n",
    "    def __init__(self,alphabet_size, hidden_dim, output_size):\n",
    "        super(LSTM, self).__init__()\n",
    "        self.hidden_dim = hidden_dim\n",
    "        \n",
    "        self.i2h = nn.Linear(alphabet_size,hidden_dim)\n",
    "        self.lstm = nn.LSTM(hidden_dim,hidden_dim,NUM_LAYERS)\n",
    "        self.h2O = nn.Linear(hidden_dim, output_size)\n",
    "        \n",
    "        self.hidden = self.init_hidden()\n",
    "        \n",
    "        \n",
    "    def init_hidden(self):\n",
    "       \n",
    "        return (autograd.Variable(torch.zeros(NUM_LAYERS, BATCH_SIZE, self.hidden_dim).type(DTYPE)),\n",
    "                autograd.Variable(torch.zeros(NUM_LAYERS, BATCH_SIZE, self.hidden_dim).type(DTYPE)))\n",
    "\n",
    "    def forward(self, sequence):\n",
    "        out = self.i2h(sequence)\n",
    "        lstm_out, self.hidden = self.lstm(out.view(SEQ_LEN-1,BATCH_SIZE,-1),self.hidden)\n",
    "        out = self.h2O(lstm_out.view(-1,self.hidden_dim))\n",
    "        return out\n",
    "    \n",
    "    \n",
    "    def gen_text(self, sequence,t=None):\n",
    "    \n",
    "        inputs = autograd.Variable(sequence_to_tensor(sequence))\n",
    "        idxs = torch.zeros(inputs.data.size())\n",
    "        out = self(inputs[:-1,:])\n",
    "\n",
    "        if t != None:\n",
    "            soft_out = F.softmax(out/t,dim=1)\n",
    "            \n",
    "            for i in range(soft_out.size()[0]):\n",
    "                idxs[i] = np.random.choice(soft_out.size()[1],p=soft_out.data.numpy()[i])\n",
    "                \n",
    "        else:\n",
    "            idxs = out.max(1)[1].data\n",
    "\n",
    "        \n",
    "        return out,idxs\n",
    "    \n"
   ]
  },
  {
   "cell_type": "code",
   "execution_count": 7,
   "metadata": {
    "collapsed": true
   },
   "outputs": [],
   "source": [
    "rnn = LSTM(len(alphabet),HIDDEN_DIM,len(alphabet)).type(DTYPE)\n",
    "optimizer = optim.Adam(rnn.parameters(),lr=0.01)\n",
    "criterion = nn.CrossEntropyLoss()\n",
    "\n",
    "epochs = 100"
   ]
  },
  {
   "cell_type": "code",
   "execution_count": null,
   "metadata": {
    "collapsed": true
   },
   "outputs": [],
   "source": [
    "def train(data):\n",
    "    \n",
    "    rnn.train(True)\n",
    "    for epoch in range(epochs):\n",
    "\n",
    "        losses = np.array([])\n",
    "        \n",
    "        for i in range(0,len(data),SEQ_LEN):\n",
    "\n",
    "            rnn.zero_grad()\n",
    "            rnn.hidden = rnn.init_hidden()\n",
    "            \n",
    "            inputs = autograd.Variable(sequence_to_tensor(data[i:i + SEQ_LEN]))\n",
    "                        \n",
    "            out = rnn(inputs[:-1,:])\n",
    "                        \n",
    "            _,target = inputs[1:,:].topk(1)\n",
    "            \n",
    "            loss = criterion(out.view(-1,len(alphabet)),target.view(-1))\n",
    "            losses = np.append(losses,loss.data[0])\n",
    "            \n",
    "            loss.backward()\n",
    "            optimizer.step()\n",
    "\n",
    "\n",
    "        print(\"Epoch {}/{}\\nLoss: {:.2f}\".format(epoch+1,epochs,losses.mean()))\n",
    "        print(\"=\"*15)\n"
   ]
  },
  {
   "cell_type": "code",
   "execution_count": null,
   "metadata": {
    "collapsed": true
   },
   "outputs": [
    {
     "name": "stdout",
     "output_type": "stream",
     "text": [
      "Epoch 1/100\n",
      "Loss: 3.32\n",
      "===============\n",
      "Epoch 2/100\n",
      "Loss: 3.25\n",
      "===============\n",
      "Epoch 3/100\n",
      "Loss: 3.25\n",
      "===============\n",
      "Epoch 4/100\n",
      "Loss: 3.25\n",
      "===============\n",
      "Epoch 5/100\n",
      "Loss: 3.25\n",
      "===============\n",
      "Epoch 6/100\n",
      "Loss: 3.24\n",
      "===============\n",
      "Epoch 7/100\n",
      "Loss: 3.24\n",
      "===============\n"
     ]
    }
   ],
   "source": [
    "train(data[:10000])"
   ]
  },
  {
   "cell_type": "code",
   "execution_count": null,
   "metadata": {},
   "outputs": [],
   "source": [
    "string = ''  \n",
    "\n",
    "\n",
    "rnn.train(False)\n",
    "\n",
    "_ ,idxs = rnn.gen_text(data[0:0+SEQ_LEN])\n",
    "    \n",
    "#for i in range(100):\n",
    "    \n",
    "    #out = rnn(out)\n",
    "    #soft_out = F.softmax(out/t,dim=1)\n",
    "\n",
    "for c in idxs:\n",
    "    string += ix_to_char[c]\n",
    "\n",
    "print(string)           \n",
    "\n",
    "\n",
    "\n",
    "#print(string,file=open('texts/output.txt','w'))"
   ]
  },
  {
   "cell_type": "code",
   "execution_count": 1,
   "metadata": {
    "collapsed": true
   },
   "outputs": [],
   "source": [
    "# overwrite dataloader\n",
    "# pre-process txt file a bit\n",
    "# hyperparameters\n",
    "# refactor"
   ]
  }
 ],
 "metadata": {
  "kernelspec": {
   "display_name": "Python 3",
   "language": "python",
   "name": "python3"
  },
  "language_info": {
   "codemirror_mode": {
    "name": "ipython",
    "version": 3
   },
   "file_extension": ".py",
   "mimetype": "text/x-python",
   "name": "python",
   "nbconvert_exporter": "python",
   "pygments_lexer": "ipython3",
   "version": "3.6.3"
  }
 },
 "nbformat": 4,
 "nbformat_minor": 2
}
